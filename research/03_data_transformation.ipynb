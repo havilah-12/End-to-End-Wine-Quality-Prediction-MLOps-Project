{
 "cells": [
  {
   "cell_type": "code",
   "execution_count": 1,
   "id": "abd16f5c",
   "metadata": {},
   "outputs": [],
   "source": [
    "import os"
   ]
  },
  {
   "cell_type": "code",
   "execution_count": 2,
   "id": "76d82ade",
   "metadata": {},
   "outputs": [
    {
     "data": {
      "text/plain": [
       "'c:\\\\Users\\\\havil\\\\OneDrive\\\\Desktop\\\\projects\\\\End-to-End-Wine-Quality-Prediction-MLOps-Project\\\\research'"
      ]
     },
     "execution_count": 2,
     "metadata": {},
     "output_type": "execute_result"
    }
   ],
   "source": [
    "%pwd"
   ]
  },
  {
   "cell_type": "code",
   "execution_count": 3,
   "id": "9834face",
   "metadata": {},
   "outputs": [],
   "source": [
    "os.chdir(\"../\")"
   ]
  },
  {
   "cell_type": "code",
   "execution_count": 4,
   "id": "3c8e8cfe",
   "metadata": {},
   "outputs": [
    {
     "data": {
      "text/plain": [
       "'c:\\\\Users\\\\havil\\\\OneDrive\\\\Desktop\\\\projects\\\\End-to-End-Wine-Quality-Prediction-MLOps-Project'"
      ]
     },
     "execution_count": 4,
     "metadata": {},
     "output_type": "execute_result"
    }
   ],
   "source": [
    "%pwd"
   ]
  },
  {
   "cell_type": "code",
   "execution_count": 5,
   "id": "fe795fec",
   "metadata": {},
   "outputs": [],
   "source": [
    "from dataclasses import dataclass\n",
    "from pathlib import Path\n",
    "\n",
    "\n",
    "# ----------- Data Tansformation -----------\n",
    "@dataclass(frozen=True)\n",
    "class DataTransformationConfig:\n",
    "    root_dir: Path\n",
    "    data_path: Path\n",
    " \n"
   ]
  },
  {
   "cell_type": "code",
   "execution_count": 6,
   "id": "a75d126c",
   "metadata": {},
   "outputs": [],
   "source": [
    "from src.MLOps_Wine_Quality_Predicition_project.constants import *\n",
    "from src.MLOps_Wine_Quality_Predicition_project.utils.common import read_yaml, create_directories\n",
    "from src.MLOps_Wine_Quality_Predicition_project import logger\n"
   ]
  },
  {
   "cell_type": "code",
   "execution_count": 17,
   "id": "f614977f",
   "metadata": {},
   "outputs": [],
   "source": [
    "# ----------- ConfigurationManager -----------\n",
    "class ConfigurationManager:\n",
    "    \n",
    "    def __init__(\n",
    "        self,\n",
    "        config_filepath=CONFIG_FILE_PATH,\n",
    "        params_filepath=PARAMS_FILE_PATH,\n",
    "        schema_filepath=SCHEMA_FILE_PATH):\n",
    "        \n",
    "        self.config = read_yaml(config_filepath)\n",
    "        self.params = read_yaml(params_filepath)\n",
    "        self.schema = read_yaml(schema_filepath)\n",
    "        \n",
    "        create_directories([self.config.artifacts_root])\n",
    "        \n",
    "    def get_data_transformation_config(self) -> DataTransformationConfig:\n",
    "        config = self.config.data_transformation\n",
    "\n",
    "        create_directories([config.root_dir])\n",
    "\n",
    "        data_transformation_config = DataTransformationConfig(\n",
    "            root_dir=config.root_dir,\n",
    "            data_path=config.data_path,\n",
    "        )\n",
    "\n",
    "        return data_transformation_config\n"
   ]
  },
  {
   "cell_type": "code",
   "execution_count": 12,
   "id": "96b2309a",
   "metadata": {},
   "outputs": [],
   "source": [
    "import os\n",
    "from src.MLOps_Wine_Quality_Predicition_project import logger\n",
    "from sklearn.model_selection import train_test_split\n",
    "import pandas as pd\n"
   ]
  },
  {
   "cell_type": "code",
   "execution_count": 19,
   "id": "6698a750",
   "metadata": {},
   "outputs": [],
   "source": [
    "# ----------- DataTransformation Class -----------\n",
    "class DataTransformation:\n",
    "    def __init__(self, config: DataTransformationConfig):\n",
    "        self.config = config\n",
    "        \n",
    "    def train_test_spliting(self):\n",
    "        data = pd.read_csv(self.config.data_path)\n",
    "\n",
    "        # Split the data into training and test sets (0.75, 0.25)\n",
    "        train, test = train_test_split(data)\n",
    "\n",
    "        train.to_csv(os.path.join(self.config.root_dir, \"train.csv\"), index=False)\n",
    "        test.to_csv(os.path.join(self.config.root_dir, \"test.csv\"), index=False)\n",
    "\n",
    "        logger.info(\"Splitted data into training and test sets\")\n",
    "        logger.info(train.shape)\n",
    "        logger.info(test.shape)\n",
    "\n",
    "        print(train.shape)\n",
    "        print(test.shape)"
   ]
  },
  {
   "cell_type": "code",
   "execution_count": 20,
   "id": "a7416eef",
   "metadata": {},
   "outputs": [
    {
     "name": "stderr",
     "output_type": "stream",
     "text": [
      "[2025-04-05 16:01:33,936: INFO: common: yaml file: config\\config.yaml loaded successfully]\n",
      "[2025-04-05 16:01:33,939: INFO: common: yaml file: params.yaml loaded successfully]\n",
      "[2025-04-05 16:01:33,942: INFO: common: yaml file: schema.yaml loaded successfully]\n",
      "[2025-04-05 16:01:33,944: INFO: common: created directory at: artifacts]\n",
      "[2025-04-05 16:01:33,946: INFO: common: created directory at: artifacts/data_transformation]\n",
      "[2025-04-05 16:01:34,035: INFO: 2154331888: Splitted data into training and test sets]\n",
      "[2025-04-05 16:01:34,037: INFO: 2154331888: (1199, 12)]\n",
      "[2025-04-05 16:01:34,038: INFO: 2154331888: (400, 12)]\n"
     ]
    },
    {
     "name": "stdout",
     "output_type": "stream",
     "text": [
      "(1199, 12)\n",
      "(400, 12)\n"
     ]
    }
   ],
   "source": [
    "# ----------- Running the code -----------\n",
    "try:\n",
    "    config = ConfigurationManager()\n",
    "    data_transformation_config = config.get_data_transformation_config()\n",
    "    data_transformation = DataTransformation(config=data_transformation_config)\n",
    "    data_transformation.train_test_spliting()\n",
    "except Exception as e:\n",
    "    raise e"
   ]
  }
 ],
 "metadata": {
  "kernelspec": {
   "display_name": "MLOps_Wine_Quality_Predicition_project",
   "language": "python",
   "name": "python3"
  },
  "language_info": {
   "codemirror_mode": {
    "name": "ipython",
    "version": 3
   },
   "file_extension": ".py",
   "mimetype": "text/x-python",
   "name": "python",
   "nbconvert_exporter": "python",
   "pygments_lexer": "ipython3",
   "version": "3.12.0"
  }
 },
 "nbformat": 4,
 "nbformat_minor": 5
}
